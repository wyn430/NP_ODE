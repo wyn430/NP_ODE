{
 "cells": [
  {
   "cell_type": "code",
   "execution_count": 1,
   "metadata": {},
   "outputs": [
    {
     "name": "stderr",
     "output_type": "stream",
     "text": [
      "Using TensorFlow backend.\n"
     ]
    }
   ],
   "source": [
    "import numpy as np\n",
    "import pandas as pd\n",
    "from sklearn import svm\n",
    "from sklearn.datasets import make_friedman2\n",
    "from sklearn.gaussian_process import GaussianProcessRegressor\n",
    "from sklearn.gaussian_process.kernels import DotProduct, WhiteKernel, Matern, ConstantKernel, PairwiseKernel\n",
    "import matplotlib.pyplot as plt\n",
    "import matplotlib\n",
    "from keras.models import Sequential\n",
    "from keras.layers import Dense, Dropout\n",
    "from keras import backend as K\n",
    "from tqdm import tqdm\n",
    "import time\n",
    "np.random.seed(24)\n",
    "import os\n",
    "os.environ[\"CUDA_VISIBLE_DEVICES\"]=\"0\""
   ]
  },
  {
   "cell_type": "markdown",
   "metadata": {},
   "source": [
    "## Data Preprocessing"
   ]
  },
  {
   "cell_type": "code",
   "execution_count": 2,
   "metadata": {
    "collapsed": true
   },
   "outputs": [],
   "source": [
    "data = np.loadtxt('data.txt', dtype='float64',delimiter=',')\n",
    "MAX = np.max(data, axis=0)\n",
    "MIN = np.min(data, axis=0)\n",
    "norm = ((data - MIN) / (MAX - MIN) + 0.1) * 4 - 2.4"
   ]
  },
  {
   "cell_type": "code",
   "execution_count": 3,
   "metadata": {
    "collapsed": true
   },
   "outputs": [],
   "source": [
    "np.random.shuffle(norm)"
   ]
  },
  {
   "cell_type": "code",
   "execution_count": 5,
   "metadata": {
    "collapsed": true
   },
   "outputs": [],
   "source": [
    "X = norm[:,:-1]\n",
    "Y = norm[:,-1:]\n",
    "num_train = 80\n",
    "num_test = 20\n",
    "train_X = X[:num_train,:]\n",
    "train_Y = Y[:num_train,:]\n",
    "test_X = X[-num_test:,:]\n",
    "test_Y = Y[-num_test:,:]"
   ]
  },
  {
   "cell_type": "markdown",
   "metadata": {},
   "source": [
    "## Gaussian Process"
   ]
  },
  {
   "cell_type": "code",
   "execution_count": 6,
   "metadata": {},
   "outputs": [
    {
     "name": "stdout",
     "output_type": "stream",
     "text": [
      "0.05438733100891113\n"
     ]
    }
   ],
   "source": [
    "## initialize and fit model matern\n",
    "# kernel = DotProduct() + WhiteKernel()\n",
    "t1 = time.time()\n",
    "Matern_kernel = Matern(length_scale=2, nu=3/2)\n",
    "Poly_kernel = ConstantKernel() * PairwiseKernel(metric='poly', pairwise_kernels_kwargs=dict(degree=4))\n",
    "gpr = GaussianProcessRegressor(kernel=Poly_kernel,random_state=0).fit(train_X, train_Y)\n",
    "t2 = time.time()\n",
    "print(t2-t1)"
   ]
  },
  {
   "cell_type": "code",
   "execution_count": 7,
   "metadata": {},
   "outputs": [
    {
     "name": "stdout",
     "output_type": "stream",
     "text": [
      "0.007851839065551758\n"
     ]
    },
    {
     "name": "stderr",
     "output_type": "stream",
     "text": [
      "/home/yinanw/anaconda3/envs/tensorflow3.6/lib/python3.6/site-packages/sklearn/gaussian_process/gpr.py:346: UserWarning: Predicted variances smaller than 0. Setting those variances to 0.\n",
      "  warnings.warn(\"Predicted variances smaller than 0. \"\n"
     ]
    }
   ],
   "source": [
    "## test model\n",
    "t1 = time.time()\n",
    "gpr_pred_Y, gpr_std_Y = gpr.predict(test_X, return_std=True)\n",
    "t2 = time.time()\n",
    "print(t2-t1)"
   ]
  },
  {
   "cell_type": "code",
   "execution_count": null,
   "metadata": {
    "collapsed": true
   },
   "outputs": [],
   "source": [
    "gpr_std_Y"
   ]
  },
  {
   "cell_type": "code",
   "execution_count": null,
   "metadata": {
    "collapsed": true
   },
   "outputs": [],
   "source": [
    "## denormalize\n",
    "test_Y_denorm = (test_Y-0.1) * (MAX - MIN)[-1] + MIN[-1]\n",
    "gpr_pred_Y_denorm = (gpr_pred_Y-0.1) * (MAX - MIN)[-1] + MIN[-1]\n",
    "\n",
    "## calculate the mean absolute percentage error of prediction\n",
    "gpr_MAPE = np.mean(np.abs((gpr_pred_Y - test_Y)/test_Y))\n",
    "gpr_RMSE = np.sqrt(np.mean(np.square(test_Y - gpr_pred_Y)))\n",
    "print(\"The Mean Absolute Percentage Error of Gaussian Process is: \",gpr_MAPE)\n",
    "print(\"The Rooted Mean Squared Error of Gaussian Process is: \",gpr_RMSE)"
   ]
  },
  {
   "cell_type": "code",
   "execution_count": null,
   "metadata": {
    "collapsed": true
   },
   "outputs": [],
   "source": [
    "pred_y = gpr_pred_Y\n",
    "target_y = Y\n",
    "context_y = train_Y"
   ]
  },
  {
   "cell_type": "code",
   "execution_count": null,
   "metadata": {
    "collapsed": true
   },
   "outputs": [],
   "source": [
    "filename = 'UQ/results/30_GP_Poly.npz'\n",
    "np.savez(filename, pred = pred_y, target = target_y[-num_test:], std = gpr_std_Y)"
   ]
  },
  {
   "cell_type": "code",
   "execution_count": null,
   "metadata": {
    "collapsed": true
   },
   "outputs": [],
   "source": [
    "gpr_std_Y.shape"
   ]
  },
  {
   "cell_type": "code",
   "execution_count": null,
   "metadata": {
    "collapsed": true
   },
   "outputs": [],
   "source": [
    "labelfont = 30\n",
    "markerline = 25\n",
    "markerstar=17\n",
    "\n",
    "matplotlib.rc('xtick', labelsize=labelfont) \n",
    "matplotlib.rc('ytick', labelsize=labelfont) \n",
    "plt.figure(figsize=(28,20))\n",
    "plt.plot(pred_y, 'r_', markersize=markerline, mew=4, label='Prediction')\n",
    "plt.plot(target_y[-num_test:], 'b*', markersize=markerstar, label='Ground Truth')\n",
    "plt.errorbar(np.arange(num_test), pred_y, gpr_std_Y*1.96, linestyle='None', capsize=12,\n",
    "             capthick=5, elinewidth=5, ecolor='c', label='Confidence Interval')\n",
    "plt.grid('off')\n",
    "plt.legend(fontsize=labelfont, loc='upper right')\n",
    "ax = plt.gca()\n",
    "plt.xlim(-1,21)\n",
    "plt.ylim(-2.5,2.5)\n",
    "plt.xlabel('index of data points',fontsize=labelfont)\n",
    "# plt.ylabel('value of y',fontsize=labelfont)\n",
    "#plt.savefig('test_80_Poly_range4.png')\n",
    "# plt.show()"
   ]
  }
 ],
 "metadata": {
  "kernelspec": {
   "display_name": "tensorflow3.6",
   "language": "python",
   "name": "tensorflow3.6"
  },
  "language_info": {
   "codemirror_mode": {
    "name": "ipython",
    "version": 3
   },
   "file_extension": ".py",
   "mimetype": "text/x-python",
   "name": "python",
   "nbconvert_exporter": "python",
   "pygments_lexer": "ipython3",
   "version": "3.6.8"
  }
 },
 "nbformat": 4,
 "nbformat_minor": 2
}
